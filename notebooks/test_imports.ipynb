{
 "cells": [
  {
   "cell_type": "code",
   "execution_count": 3,
   "metadata": {},
   "outputs": [],
   "source": [
    "from sklearn.metrics import log_loss, f1_score"
   ]
  },
  {
   "cell_type": "code",
   "execution_count": 4,
   "metadata": {},
   "outputs": [],
   "source": [
    "import pandas as pd\n",
    "from sklearn.model_selection import train_test_split"
   ]
  },
  {
   "cell_type": "code",
   "execution_count": 6,
   "metadata": {},
   "outputs": [],
   "source": [
    "from kedro.pipeline import node, Pipeline, pipeline\n"
   ]
  },
  {
   "cell_type": "code",
   "execution_count": 9,
   "metadata": {},
   "outputs": [],
   "source": [
    "import pandas as pd\n",
    "from pycaret.classification import ClassificationExperiment\n",
    "from sklearn.metrics import f1_score, log_loss\n",
    "\n",
    "def log_reg_model_train(x_train, y_train, session_id, n_iter=50):\n",
    "    exp = ClassificationExperiment()\n",
    "    exp.setup(data=x_train, target=y_train['shot_made_flag'] , session_id=session_id, silent=True, log_experiment=True)\n",
    "\n",
    "    lr_model = exp.create_model('lr')\n",
    "    tuned_lr = exp.tune_model(\n",
    "        lr_model, \n",
    "        n_iter=n_iter, \n",
    "        optimize='F1', \n",
    "        search_library=\"optuna\", \n",
    "        search_algorithm=\"tpe\", \n",
    "        early_stopping=True\n",
    "    )\n",
    "    return tuned_lr\n",
    "\n",
    "def decision_tree_model_train(x_train, y_train, session_id, n_iter=50):\n",
    "\n",
    "    exp = ClassificationExperiment()\n",
    "    exp.setup(data=x_train, target=y_train['shot_made_flag'],  session_id=session_id, silent=True, log_experiment=True)\n",
    "\n",
    "    dt_model = exp.create_model('dt')  \n",
    "    \n",
    "    tuned_dt = exp.tune_model(\n",
    "        dt_model, \n",
    "        n_iter=n_iter, \n",
    "        optimize='F1', \n",
    "        search_library=\"optuna\", \n",
    "        search_algorithm=\"tpe\", \n",
    "        early_stopping=True\n",
    "    )\n",
    "\n",
    "    return tuned_dt\n",
    "\n",
    "def compute_log_reg_metrics(model, x_test: pd.DataFrame, y_test):\n",
    "\n",
    "    y_predict = model.predict_proba(x_test)\n",
    "\n",
    "    log_loss_value = log_loss(y_test['shot_made_flag'].values, y_predict[:, 1])\n",
    "\n",
    "    metrics = {'log_loss_lr': log_loss_value}\n",
    "\n",
    "    return {\n",
    "        key: {'value': value, 'step': 1}\n",
    "        for key, value in metrics.items()\n",
    "    }\n",
    "    \n",
    "def compute_decision_tree_metrics(model, x_test: pd.DataFrame, y_test):\n",
    "  \n",
    "    y_predict = model.predict(data=x_test)\n",
    "    y_predict_scores = model.predict_proba(x_test)\n",
    " \n",
    "    log_loss_value = log_loss(y_test['shot_made_flag'].values, y_predict_scores[:, 1])\n",
    "    f1_score_value = f1_score(y_test['shot_made_flag'].values, y_predict)\n",
    "    \n",
    "    metrics = {\n",
    "        'log_loss_dt': log_loss_value, \n",
    "        'f1_score_dt': f1_score_value\n",
    "               }\n",
    "\n",
    "    return {\n",
    "        key: {'value': value, 'step': 1}\n",
    "        for key, value in metrics.items()\n",
    "    }"
   ]
  },
  {
   "cell_type": "code",
   "execution_count": null,
   "metadata": {},
   "outputs": [],
   "source": []
  },
  {
   "cell_type": "code",
   "execution_count": null,
   "metadata": {},
   "outputs": [],
   "source": [
    "log_reg_model_train(x_train, y_train, session_id, n_iter=50)"
   ]
  }
 ],
 "metadata": {
  "kernelspec": {
   "display_name": ".venv",
   "language": "python",
   "name": "python3"
  },
  "language_info": {
   "codemirror_mode": {
    "name": "ipython",
    "version": 3
   },
   "file_extension": ".py",
   "mimetype": "text/x-python",
   "name": "python",
   "nbconvert_exporter": "python",
   "pygments_lexer": "ipython3",
   "version": "3.9.21"
  }
 },
 "nbformat": 4,
 "nbformat_minor": 2
}
